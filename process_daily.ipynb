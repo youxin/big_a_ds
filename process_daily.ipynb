{
 "cells": [
  {
   "cell_type": "code",
   "id": "2767dfe9-5ead-4c99-9dc7-efca820bd039",
   "metadata": {
    "ExecuteTime": {
     "end_time": "2024-07-28T07:21:00.226768Z",
     "start_time": "2024-07-28T07:21:00.198032Z"
    }
   },
   "source": [
    "import pandas as pd\n",
    "\n",
    "filename = '../big_a_data/all.csv'\n",
    "df = pd.read_csv(filename, converters={'code': str})\n",
    "df = df[df['code'].isin(['000063', '002179', '002223', '600660', '600887', '601318'])]\n",
    "print('Done', len(df))\n",
    "df"
   ],
   "outputs": [
    {
     "name": "stdout",
     "output_type": "stream",
     "text": [
      "Done 6\n"
     ]
    },
    {
     "data": {
      "text/plain": [
       "        code  name    行业      上市时间     最新     涨幅  股息率_2023\n",
       "43    000063  中兴通讯  通信设备  19971118  29.12   0.94      2.35\n",
       "688   002179  中航光电  电子元件  20071101  36.52   0.77      1.64\n",
       "731   002223  鱼跃医疗  医疗器械  20080418  36.52   0.25      2.19\n",
       "3370  600660  福耀玻璃  玻璃玻纤  19930610  49.17  -0.12      2.64\n",
       "3565  600887  伊利股份  食品饮料  19960312   25.7   2.27      4.67\n",
       "3724  601318  中国平安    保险  20070301  41.94   0.19      5.79"
      ],
      "text/html": [
       "<div>\n",
       "<style scoped>\n",
       "    .dataframe tbody tr th:only-of-type {\n",
       "        vertical-align: middle;\n",
       "    }\n",
       "\n",
       "    .dataframe tbody tr th {\n",
       "        vertical-align: top;\n",
       "    }\n",
       "\n",
       "    .dataframe thead th {\n",
       "        text-align: right;\n",
       "    }\n",
       "</style>\n",
       "<table border=\"1\" class=\"dataframe\">\n",
       "  <thead>\n",
       "    <tr style=\"text-align: right;\">\n",
       "      <th></th>\n",
       "      <th>code</th>\n",
       "      <th>name</th>\n",
       "      <th>行业</th>\n",
       "      <th>上市时间</th>\n",
       "      <th>最新</th>\n",
       "      <th>涨幅</th>\n",
       "      <th>股息率_2023</th>\n",
       "    </tr>\n",
       "  </thead>\n",
       "  <tbody>\n",
       "    <tr>\n",
       "      <th>43</th>\n",
       "      <td>000063</td>\n",
       "      <td>中兴通讯</td>\n",
       "      <td>通信设备</td>\n",
       "      <td>19971118</td>\n",
       "      <td>29.12</td>\n",
       "      <td>0.94</td>\n",
       "      <td>2.35</td>\n",
       "    </tr>\n",
       "    <tr>\n",
       "      <th>688</th>\n",
       "      <td>002179</td>\n",
       "      <td>中航光电</td>\n",
       "      <td>电子元件</td>\n",
       "      <td>20071101</td>\n",
       "      <td>36.52</td>\n",
       "      <td>0.77</td>\n",
       "      <td>1.64</td>\n",
       "    </tr>\n",
       "    <tr>\n",
       "      <th>731</th>\n",
       "      <td>002223</td>\n",
       "      <td>鱼跃医疗</td>\n",
       "      <td>医疗器械</td>\n",
       "      <td>20080418</td>\n",
       "      <td>36.52</td>\n",
       "      <td>0.25</td>\n",
       "      <td>2.19</td>\n",
       "    </tr>\n",
       "    <tr>\n",
       "      <th>3370</th>\n",
       "      <td>600660</td>\n",
       "      <td>福耀玻璃</td>\n",
       "      <td>玻璃玻纤</td>\n",
       "      <td>19930610</td>\n",
       "      <td>49.17</td>\n",
       "      <td>-0.12</td>\n",
       "      <td>2.64</td>\n",
       "    </tr>\n",
       "    <tr>\n",
       "      <th>3565</th>\n",
       "      <td>600887</td>\n",
       "      <td>伊利股份</td>\n",
       "      <td>食品饮料</td>\n",
       "      <td>19960312</td>\n",
       "      <td>25.7</td>\n",
       "      <td>2.27</td>\n",
       "      <td>4.67</td>\n",
       "    </tr>\n",
       "    <tr>\n",
       "      <th>3724</th>\n",
       "      <td>601318</td>\n",
       "      <td>中国平安</td>\n",
       "      <td>保险</td>\n",
       "      <td>20070301</td>\n",
       "      <td>41.94</td>\n",
       "      <td>0.19</td>\n",
       "      <td>5.79</td>\n",
       "    </tr>\n",
       "  </tbody>\n",
       "</table>\n",
       "</div>"
      ]
     },
     "execution_count": 31,
     "metadata": {},
     "output_type": "execute_result"
    }
   ],
   "execution_count": 31
  },
  {
   "cell_type": "code",
   "id": "1ff61bea-0d06-4ce6-9c1f-4fc08b37bbbd",
   "metadata": {
    "ExecuteTime": {
     "end_time": "2024-07-28T07:21:00.235883Z",
     "start_time": "2024-07-28T07:21:00.228492Z"
    }
   },
   "source": [
    "DAYS  = 10\n",
    "DAYS_MEAN = [5, 10, 20, 30]\n",
    "\n",
    "def process_delta(file_hist, file_process):\n",
    "    df_hist = pd.read_csv(file_hist, converters = {'股票代码':str})\n",
    "    df_process = pd.read_csv(file_process, converters = {'股票代码':str})\n",
    "    num_new = len(df_hist) - len(df_process)\n",
    "    if num_new == 0:\n",
    "        return\n",
    "    #print(file_process)\n",
    "    list_col_hist = list(df_hist.columns)\n",
    "    list_col_process = list(df_process.columns)\n",
    "    list_col_gap = list_col_process[len(list_col_hist):]\n",
    "    for col in list_col_gap:\n",
    "        df_hist[col] = 0.0\n",
    "    \n",
    "    df_hist = df_hist[-num_new : ]\n",
    "    df_process = pd.concat([df_process, df_hist], ignore_index = False)    \n",
    "\n",
    "    for index in range(len(df_process) - num_new, len(df_process)):\n",
    "        '''\n",
    "        index - 10: d10\n",
    "        ...\n",
    "        index - 2: d2\n",
    "        index - 1: d1\n",
    "        index: \n",
    "            d-1, [index - 1, '收盘'] / curr\n",
    "            d-2, [index - 2, '收盘'] / curr\n",
    "            ...\n",
    "            d-10,[index - 10, '收盘'] / curr\n",
    "        '''\n",
    "        curr_day_close = df_process.loc[df_process.index[index], '收盘']\n",
    "        curr_day_high = df_process.loc[df_process.index[index], '最高']\n",
    "        curr_day_low = df_process.loc[df_process.index[index], '最低']\n",
    "        for d in range(1, DAYS + 1):\n",
    "            pre_day_close = df_process.loc[df_process.index[index - d], '收盘']\n",
    "            pre_day_high = df_process.loc[df_process.index[index - d], '最高']\n",
    "            df_process.loc[df_process.index[index], f'd-{d}'] = round((pre_day_close/curr_day_close - 1) * 100, 2)\n",
    "            df_process.loc[df_process.index[index - d], f'd{d}'] = round((curr_day_high/pre_day_close - 1) * 100, 2)\n",
    "\n",
    "        #日均\n",
    "        for mean in DAYS_MEAN:\n",
    "            mean_sum = df_process['收盘'][index - mean + 1 : index + 1].sum()          \n",
    "            df_process.at[index, f'{mean}日均'] = round(mean_sum/mean, 2)\n",
    "\n",
    "    df_process.to_csv(file_process, index = False)"
   ],
   "outputs": [],
   "execution_count": 32
  },
  {
   "cell_type": "code",
   "id": "9f517c35-9d89-42f9-bf1f-95671e2f2860",
   "metadata": {
    "ExecuteTime": {
     "end_time": "2024-07-28T07:21:19.947287Z",
     "start_time": "2024-07-28T07:21:00.236980Z"
    }
   },
   "source": [
    "import os\n",
    "\n",
    "for code in df['code']:\n",
    "    print(code, end='\\r')\n",
    "    filename_hist = f'../big_a_data/hist_daily/{code}.csv'\n",
    "    filename_process = f'./process_daily/{code}.csv'\n",
    "    if os.path.exists(filename_process):\n",
    "        process_delta(filename_hist, filename_process)\n",
    "        continue\n",
    "    df_hist_daily = pd.read_csv(filename_hist, converters={'股票代码':str})\n",
    "    #debug\n",
    "    #df_hist_daily = df_hist_daily[ : 10]\n",
    "    #df_hist_daily = df_hist_daily[['开盘', '收盘', '最高']]\n",
    "\n",
    "    for d in range(DAYS, 0, -1):\n",
    "        df_hist_daily[f'd-{d}'] = 0.0\n",
    "    for mean in DAYS_MEAN:\n",
    "        df_hist_daily[f'{mean}日均'] = 0.0\n",
    "    for d in range(1, DAYS + 1):\n",
    "        df_hist_daily[f'd{d}'] = 0.0\n",
    "\n",
    "    sum_pre = {mean:0.0 for mean in DAYS_MEAN}\n",
    "    for index, row in df_hist_daily.iterrows():\n",
    "        curr_day_close = row['收盘']\n",
    "        curr_day_low = row['最低']\n",
    "\n",
    "        #前DAYS日\n",
    "        for d in range(1, DAYS + 1):\n",
    "            if index >= d:\n",
    "                temp = df_hist_daily.iloc[index - d]['收盘']\n",
    "                df_hist_daily.at[index, f'd-{d}'] = round((temp/curr_day_close - 1) * 100, 2)\n",
    "            else:\n",
    "                break    \n",
    "                \n",
    "        #后DAYS日\n",
    "        buy = curr_day_close\n",
    "        d = 0\n",
    "        for sell in df_hist_daily[index + 1 : ]['最高']:\n",
    "            d += 1\n",
    "            df_hist_daily.at[index, f'd{d}'] = round((sell/buy - 1) * 100, 2)\n",
    "            if d == DAYS:\n",
    "                break        \n",
    "        \n",
    "        #日均\n",
    "        for mean in DAYS_MEAN:\n",
    "            sum_pre[mean] += curr_day_close\n",
    "            if index >= mean:\n",
    "                sum_pre[mean] -= df_hist_daily.at[index - mean, '收盘']\n",
    "                df_hist_daily.at[index, f'{mean}日均'] = round(sum_pre[mean]/mean, 2)\n",
    "            else:\n",
    "                df_hist_daily.at[index, f'{mean}日均'] = round(sum_pre[mean]/(index + 1), 2)\n",
    "                \n",
    "        #print(df_hist_daily.loc[index])\n",
    "\n",
    "    #debug\n",
    "    #print(df_hist_daily)   \n",
    "    df_hist_daily.to_csv(filename_process, index = False)\n",
    "\n",
    "print(f'\\r\\nDone, {len(df)}')"
   ],
   "outputs": [
    {
     "name": "stdout",
     "output_type": "stream",
     "text": [
      "601318\r\n",
      "Done, 6\n"
     ]
    }
   ],
   "execution_count": 33
  },
  {
   "cell_type": "code",
   "id": "caa6f500-2d49-47fb-bc77-27c9062526b0",
   "metadata": {
    "ExecuteTime": {
     "end_time": "2024-07-28T07:21:19.949471Z",
     "start_time": "2024-07-28T07:21:19.948089Z"
    }
   },
   "source": [],
   "outputs": [],
   "execution_count": 33
  }
 ],
 "metadata": {
  "kernelspec": {
   "display_name": "Python 3 (ipykernel)",
   "language": "python",
   "name": "python3"
  },
  "language_info": {
   "codemirror_mode": {
    "name": "ipython",
    "version": 3
   },
   "file_extension": ".py",
   "mimetype": "text/x-python",
   "name": "python",
   "nbconvert_exporter": "python",
   "pygments_lexer": "ipython3",
   "version": "3.11.9"
  }
 },
 "nbformat": 4,
 "nbformat_minor": 5
}
